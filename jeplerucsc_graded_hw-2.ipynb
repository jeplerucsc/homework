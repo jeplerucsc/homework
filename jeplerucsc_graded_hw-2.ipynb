{
 "cells": [
  {
   "cell_type": "markdown",
   "metadata": {},
   "source": [
    "grade: 8/8 good job!\n",
    "\n",
    "One typo in the third function: first prefactor should be `0.25`, not `0.025`\n",
    "\n",
    "One suggestion: put comments in the line above rather than right next to the line of code.  This makes it easier to read!"
   ]
  },
  {
   "cell_type": "code",
   "execution_count": null,
   "metadata": {
    "ExecuteTime": {
     "end_time": "2018-10-22T20:16:27.593381Z",
     "start_time": "2018-10-22T20:16:27.295913Z"
    },
    "collapsed": true
   },
   "outputs": [],
   "source": [
    "%matplotlib inline\n",
    "import matplotlib.pyplot as plt\n",
    "import numpy as np"
   ]
  },
  {
   "cell_type": "code",
   "execution_count": null,
   "metadata": {
    "ExecuteTime": {
     "end_time": "2018-10-22T20:16:28.173024Z",
     "start_time": "2018-10-22T20:16:27.594835Z"
    },
    "scrolled": true
   },
   "outputs": [],
   "source": [
    "x = np.linspace(0,2*np.pi,1000)  #create x = [0...2*pi] with 1000 values\n",
    "y = 5.5 * np.cos(2*x) + 5.5     #y(x) = 5.5cos(2x)+5.5\n",
    "z = 0.02 * np.exp(x)            #y(x) = 0.02e^x\n",
    "w = 0.025 * x**2 + 0.1 * np.sin(10*x) #y(x) = 0.25x^2 + 0.1sin(10x)\n",
    "plt.plot(x, y, label = r'$y = 5.5\\cos(2x) + 5.5$') #add a label to first line\n",
    "plt.plot(x, z, label= r'$y = 0.02\\exp(x)$')  #add a label to the second line\n",
    "plt.plot(x, w, label = r'$y = 0.25x^2 + 0.1\\sin(10x)$') #add a label to the third line\n",
    "plt.legend(loc=1, framealpha = 0.60) #legend with transparent frame\n",
    "plt.xlabel('Time in ASTR 119') #x axis label\n",
    "plt.ylabel('Confidence in Programming Skills') # y axis label\n",
    "plt.xlim((0,2*np.pi))                   #x range [0,2*pi]\n",
    "plt.ylim((-1,10))                #y range [-1,10]\n",
    "plt.show()"
   ]
  },
  {
   "cell_type": "code",
   "execution_count": null,
   "metadata": {
    "collapsed": true
   },
   "outputs": [],
   "source": []
  },
  {
   "cell_type": "code",
   "execution_count": null,
   "metadata": {
    "collapsed": true
   },
   "outputs": [],
   "source": []
  }
 ],
 "metadata": {
  "kernelspec": {
   "display_name": "Python 3",
   "language": "python",
   "name": "python3"
  },
  "language_info": {
   "codemirror_mode": {
    "name": "ipython",
    "version": 3
   },
   "file_extension": ".py",
   "mimetype": "text/x-python",
   "name": "python",
   "nbconvert_exporter": "python",
   "pygments_lexer": "ipython3",
   "version": "3.6.1"
  }
 },
 "nbformat": 4,
 "nbformat_minor": 2
}
