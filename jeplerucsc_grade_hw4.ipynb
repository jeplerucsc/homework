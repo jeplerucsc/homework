{
 "cells": [
  {
   "cell_type": "markdown",
   "metadata": {},
   "source": [
    "grade: 5/6, great job!\n",
    "\n",
    "Just check the upper bounds you're using for computing the integral with the romberg method."
   ]
  },
  {
   "cell_type": "code",
   "execution_count": 1,
   "metadata": {
    "ExecuteTime": {
     "end_time": "2018-11-20T00:20:54.173118Z",
     "start_time": "2018-11-20T00:20:53.864167Z"
    },
    "collapsed": true
   },
   "outputs": [],
   "source": [
    "%matplotlib inline\n",
    "import numpy as np\n",
    "import matplotlib.pyplot as plt"
   ]
  },
  {
   "cell_type": "code",
   "execution_count": 2,
   "metadata": {
    "ExecuteTime": {
     "end_time": "2018-11-20T00:20:54.200246Z",
     "start_time": "2018-11-20T00:20:54.195951Z"
    },
    "collapsed": true
   },
   "outputs": [],
   "source": [
    "def func(x): #function to integrate\n",
    "    a = -2 * x\n",
    "    b = 10 * x\n",
    "    return np.exp(a) * np.cos(b)"
   ]
  },
  {
   "cell_type": "code",
   "execution_count": 3,
   "metadata": {
    "ExecuteTime": {
     "end_time": "2018-11-20T00:20:54.388885Z",
     "start_time": "2018-11-20T00:20:54.382919Z"
    },
    "collapsed": true
   },
   "outputs": [],
   "source": [
    "def func_integral(x): #integral of the given function\n",
    "    a = -2 * x\n",
    "    b = 10 * x\n",
    "    return (np.exp(a) * (5 * np.sin(b) - np.cos(b)))/52 #answer should be about 0.0191949"
   ]
  },
  {
   "cell_type": "code",
   "execution_count": 4,
   "metadata": {
    "ExecuteTime": {
     "end_time": "2018-11-20T00:20:54.536750Z",
     "start_time": "2018-11-20T00:20:54.534027Z"
    },
    "collapsed": true
   },
   "outputs": [],
   "source": [
    "def trapezoid_core(f,x,h):\n",
    "    return 0.5*h*(f(x+h) + f(x))"
   ]
  },
  {
   "cell_type": "code",
   "execution_count": 5,
   "metadata": {
    "ExecuteTime": {
     "end_time": "2018-11-20T00:20:54.725016Z",
     "start_time": "2018-11-20T00:20:54.719944Z"
    },
    "collapsed": true
   },
   "outputs": [],
   "source": [
    "def trapezoid_method(f,a,b,N):\n",
    "    #f = function to integrate\n",
    "    #a = lower limit of integration\n",
    "    #b = upper limit of integration\n",
    "    #N = number of function evaluations to use\n",
    "    #note the number of chunks will be N-1\n",
    "    #so if N is odd, then we don't need to adjust the\n",
    "    #last segment\n",
    "    \n",
    "    #define x values to perform simpsons rule\n",
    "    x = np.linspace(a,b,N)\n",
    "    h = x[1]-x[0]\n",
    "    \n",
    "    #define the value of the integral\n",
    "    Fint = 0.0\n",
    "    \n",
    "    #perform the integral using the trapezoid method\n",
    "    for i in range(0, len(x) - 1,1):\n",
    "        Fint += trapezoid_core(f,x[i],h)\n",
    "        #print(i,i+1,x[i],x[i]+h,x[-2],x[-1])\n",
    "        \n",
    "    #return the answer\n",
    "    return Fint"
   ]
  },
  {
   "cell_type": "code",
   "execution_count": 6,
   "metadata": {
    "ExecuteTime": {
     "end_time": "2018-11-20T00:20:54.910363Z",
     "start_time": "2018-11-20T00:20:54.907221Z"
    },
    "collapsed": true
   },
   "outputs": [],
   "source": [
    "def simpson_core(f,x,h):\n",
    "    return h*(f(x) + 4*f(x+h) + f(x+2*h))/3."
   ]
  },
  {
   "cell_type": "code",
   "execution_count": 7,
   "metadata": {
    "ExecuteTime": {
     "end_time": "2018-11-20T00:20:55.194288Z",
     "start_time": "2018-11-20T00:20:55.189765Z"
    },
    "collapsed": true
   },
   "outputs": [],
   "source": [
    "def simpsons_method(f,a,b,N):\n",
    "    #f = function to integrate\n",
    "    #a = lower limit of integration\n",
    "    #b = upper limit of integration\n",
    "    #N = number of function evaluations to use\n",
    "    #note the number of chunks will be N-1\n",
    "    #so if N is odd, then we don't need to adjust the\n",
    "    #last segment\n",
    "    \n",
    "    #define x values to perform simpsons rule\n",
    "    x = np.linspace(a,b,N)\n",
    "    h = x[1]-x[0]\n",
    "    \n",
    "    #define the value of the integral\n",
    "    Fint = 0.0\n",
    "    \n",
    "    #perform the integral using simpson's method\n",
    "    for i in range(0,len(x)-2,2):\n",
    "        Fint += simpson_core(f,x[i],h)\n",
    "        \n",
    "    #apply simpson's rule over the last interval\n",
    "    #if N is even\n",
    "    if((N%2)==0):\n",
    "        Fint += simpson_core(f,x[-2],0.5 * h)\n",
    "        \n",
    "    return Fint"
   ]
  },
  {
   "cell_type": "code",
   "execution_count": 8,
   "metadata": {
    "ExecuteTime": {
     "end_time": "2018-11-20T00:20:55.590919Z",
     "start_time": "2018-11-20T00:20:55.586948Z"
    },
    "collapsed": true
   },
   "outputs": [],
   "source": [
    "def romberg_core(f,a,b,i):\n",
    "    #we need the difference b-a\n",
    "    h = b-a\n",
    "    \n",
    "    #and the increment between new func evals\n",
    "    dh = h/2.**(i)\n",
    "    \n",
    "    #we need the cofactor\n",
    "    K = h/2.**(i+1)\n",
    "    \n",
    "    #and the function evaluations\n",
    "    M = 0.0\n",
    "    for j in range(2**i):\n",
    "        M += f(a + 0.5*dh + j*dh)\n",
    "        \n",
    "    #return the answer\n",
    "    return K*M"
   ]
  },
  {
   "cell_type": "code",
   "execution_count": 9,
   "metadata": {
    "ExecuteTime": {
     "end_time": "2018-11-20T00:20:56.092767Z",
     "start_time": "2018-11-20T00:20:56.079869Z"
    },
    "collapsed": true
   },
   "outputs": [],
   "source": [
    "def romberg_integration(f,a,b,tol):\n",
    "    #define an iteration variable\n",
    "    i = 0\n",
    "    \n",
    "    #define a maximum number of iterations\n",
    "    imax = 1000\n",
    "    \n",
    "    #define an error estimate, set to a large value\n",
    "    delta = 100.0*np.fabs(tol)\n",
    "    \n",
    "    #set an array of integral answers\n",
    "    I = np.zeros(imax,dtype = float)\n",
    "    \n",
    "    #get the zeroth romberg iteration\n",
    "    I[0] = 0.5*(b-a)*(f(a) + f(b))\n",
    "    \n",
    "    #iterate by 1\n",
    "    i += 1\n",
    "    \n",
    "    while(delta > tol):\n",
    "        \n",
    "        #find this romberg iteration\n",
    "        I[i] = 0.5 * I[i-1] + romberg_core(f,a,b,i)\n",
    "        \n",
    "        #compute the new fractional error estimate\n",
    "        delta = np.fabs((I[i]-I[i-1])/I[i])\n",
    "        \n",
    "        print(i,I[i],I[i-1],delta)\n",
    "        \n",
    "        if(delta>tol):\n",
    "            \n",
    "            #iterate\n",
    "            i+=1\n",
    "\n",
    "            #if we've reached the maximum iterations\n",
    "            if(i>imax):\n",
    "                print(\"Max iterations reached.\")\n",
    "                raise StopIteration('Stopping iterations after ',i)\n",
    "                \n",
    "        #return the answer\n",
    "    return I[i]"
   ]
  },
  {
   "cell_type": "code",
   "execution_count": 11,
   "metadata": {
    "ExecuteTime": {
     "end_time": "2018-11-20T00:21:01.593614Z",
     "start_time": "2018-11-20T00:21:00.988247Z"
    }
   },
   "outputs": [
    {
     "name": "stdout",
     "output_type": "stream",
     "text": [
      "0.019194856870544078\n",
      "Trapezoid\n",
      "0.019194934497203494\n",
      "Intervals with trapezoid to get tolerance of 1e-6: 4600\n",
      "Simpson's Method\n",
      "0.019191462317880627\n",
      "Intervals with Simpson's to get tolerance of 1e-6: 100\n",
      "Romberg Method (iterations required: 24)\n",
      "1 0.11946766131901145 0.4432220084783303 2.70997476291769\n",
      "2 0.060811946494693916 0.11946766131901145 0.9645426302780075\n",
      "3 0.03649466375563151 0.060811946494693916 0.6663243399607974\n",
      "4 0.025166949899448742 0.03649466375563151 0.45010276976118163\n",
      "5 0.01969035751806674 0.025166949899448742 0.2781357512862321\n",
      "6 0.016997673593145184 0.01969035751806674 0.1584148507244816\n",
      "7 0.01566266057717022 0.016997673593145184 0.08523539212238751\n",
      "8 0.014997981690630852 0.01566266057717022 0.04431788891665263\n",
      "9 0.014666348864544723 0.014997981690630852 0.022611819011603952\n",
      "10 0.014500709087790525 0.014666348864544723 0.011422874271277198\n",
      "11 0.014417933357360257 0.014500709087790525 0.005741164727191093\n",
      "12 0.014376556531561556 0.014417933357360257 0.0028780762422395546\n",
      "13 0.01435587087851195 0.014376556531561556 0.0014409194137130136\n",
      "14 0.014345528741949082 0.01435587087851195 0.0007209310126455115\n",
      "15 0.014340357846158142 0.014345528741949082 0.00036058345589510665\n",
      "16 0.014337772441385456 0.014340357846158142 0.00018032123073892373\n",
      "17 0.01433647974977972 0.014337772441385456 9.016799300093485e-05\n",
      "0.01433647974977972 -0.25310827548914394 0.0001\n"
     ]
    }
   ],
   "source": [
    "Answer = func_integral(np.pi) - func_integral(0)\n",
    "print(Answer)\n",
    "print(\"Trapezoid\")\n",
    "print(trapezoid_method(func,0,np.pi,4600))\n",
    "print(\"Intervals with trapezoid to get tolerance of 1e-6: 4600\")\n",
    "print(\"Simpson's Method\")\n",
    "print(simpsons_method(func,0,np.pi,100))\n",
    "print(\"Intervals with Simpson's to get tolerance of 1e-6: 100\")\n",
    "print(\"Romberg Method (iterations required: 24)\")\n",
    "tolerance = 1.0e-4\n",
    "RI = romberg_integration(func,0,1,tolerance)\n",
    "print(RI, (RI -Answer)/Answer, tolerance)"
   ]
  },
  {
   "cell_type": "code",
   "execution_count": null,
   "metadata": {
    "collapsed": true
   },
   "outputs": [],
   "source": []
  }
 ],
 "metadata": {
  "kernelspec": {
   "display_name": "Python 3",
   "language": "python",
   "name": "python3"
  },
  "language_info": {
   "codemirror_mode": {
    "name": "ipython",
    "version": 3
   },
   "file_extension": ".py",
   "mimetype": "text/x-python",
   "name": "python",
   "nbconvert_exporter": "python",
   "pygments_lexer": "ipython3",
   "version": "3.6.1"
  }
 },
 "nbformat": 4,
 "nbformat_minor": 2
}
