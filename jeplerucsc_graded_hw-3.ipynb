{
 "cells": [
  {
   "cell_type": "markdown",
   "metadata": {},
   "source": [
    "grade: 8/9, great job!\n",
    "\n",
    "just missing an indication of how many iteration it took to converge"
   ]
  },
  {
   "cell_type": "code",
   "execution_count": null,
   "metadata": {
    "ExecuteTime": {
     "end_time": "2018-11-06T04:27:21.553753Z",
     "start_time": "2018-11-06T04:27:21.209074Z"
    },
    "collapsed": true
   },
   "outputs": [],
   "source": [
    "%matplotlib inline\n",
    "import numpy as np\n",
    "import matplotlib.pyplot as plt"
   ]
  },
  {
   "cell_type": "code",
   "execution_count": null,
   "metadata": {
    "ExecuteTime": {
     "end_time": "2018-11-06T04:27:21.560319Z",
     "start_time": "2018-11-06T04:27:21.555342Z"
    },
    "collapsed": true
   },
   "outputs": [],
   "source": [
    "def function_for_roots(x):\n",
    "    a = 1.01\n",
    "    b = -3.04\n",
    "    c = 2.07\n",
    "    return a*x**2 + b*x + c #get the roots of ax^2 + bx + c"
   ]
  },
  {
   "cell_type": "code",
   "execution_count": null,
   "metadata": {
    "ExecuteTime": {
     "end_time": "2018-11-06T04:27:21.587050Z",
     "start_time": "2018-11-06T04:27:21.579783Z"
    },
    "collapsed": true
   },
   "outputs": [],
   "source": [
    "def check_initial_values(f, x_min, x_max, tol):\n",
    "    \n",
    "    #check initial guesses\n",
    "    y_min = f(x_min)\n",
    "    y_max = f(x_max)\n",
    "    \n",
    "    #check that x_min and x_max contain a zero crossing\n",
    "    if(y_min*y_max >= 0.0):\n",
    "        print(\"No zero crossing found in the range = \", x_min, x_max)\n",
    "        s = \"f(%f) = %f, f(%f) = %f\" % (x_min,y_min,x_max,y_max)\n",
    "        print(s)\n",
    "        return 0\n",
    "    \n",
    "    #if x_min is a root, then return flag == 1\n",
    "    if(np.fabs(y_min)<tol):\n",
    "        return 1\n",
    "    \n",
    "    #if x_max is a root, then return flag == 2\n",
    "    if(np.fabs(y_max)<tol):\n",
    "        return 2\n",
    "    \n",
    "    #if we reach this point, the bracket is valid and we will return 3\n",
    "    return 3\n"
   ]
  },
  {
   "cell_type": "code",
   "execution_count": null,
   "metadata": {
    "ExecuteTime": {
     "end_time": "2018-11-06T04:27:22.011630Z",
     "start_time": "2018-11-06T04:27:22.002802Z"
    },
    "collapsed": true
   },
   "outputs": [],
   "source": [
    "def bisection_root_finding(f, x_min_start, x_max_start, tol):\n",
    "    \n",
    "    #this function uses bisection search to find a root\n",
    "    \n",
    "    x_min = x_min_start #minimum x in bracket\n",
    "    x_max = x_max_start #maximum x in bracket\n",
    "    x_mid = 0.0         #mid point\n",
    "    \n",
    "    y_min = f(x_min)    #function value at x_min\n",
    "    y_max = f(x_max)    #function value at x_max\n",
    "    y_mid = 0.0         #functino value at midpoint\n",
    "    \n",
    "    imax = 10000        #set a maximum number of iterations\n",
    "    i = 0               #iteration counter\n",
    "    \n",
    "    #check the initial values\n",
    "    flag = check_initial_values(f,x_min,x_max,tol)\n",
    "    if(flag == 0):\n",
    "        print(\"Error in bisection_root_finding().\")\n",
    "        raise ValueError('Initial values invalid', x_min, x_max)\n",
    "    elif (flag ==1):\n",
    "        #lucky guess\n",
    "        return x_min\n",
    "    elif(flag == 2):\n",
    "        #another lucky guess\n",
    "        return x_max\n",
    "    \n",
    "    #if we reach here, then we need to conduct the search\n",
    "\n",
    "    #set a flag\n",
    "    flag = 1\n",
    "    \n",
    "    #enter a while loop\n",
    "    while(flag):\n",
    "        x_mid = 0.5*(x_min + x_max) #midpoint\n",
    "        y_mid = f(x_mid)            #function value at x_mid\n",
    "        \n",
    "        #check if x_mid is a root\n",
    "        if(np.fabs(y_mid)<tol):\n",
    "            flag = 0\n",
    "        else:\n",
    "            #x_mid is not a root\n",
    "            \n",
    "            #if the product of the function at the midpoint\n",
    "            #and at one of the end points is greater than\n",
    "            #zero, replace this end point\n",
    "            if(f(x_min)*f(x_mid)>0):\n",
    "                #replace x_min with x_mid\n",
    "                x_min = x_mid\n",
    "            else:\n",
    "                #replace x_max with x_mid\n",
    "                x_max = x_mid\n",
    "                \n",
    "        #print out the iteration\n",
    "        print(x_min,f(x_min),x_max,f(x_max))\n",
    "        \n",
    "        #count the iteration\n",
    "        i += 1\n",
    "        \n",
    "        #if we have exceeded the max number\n",
    "        #of iterations, exit\n",
    "        if(i>imax):\n",
    "            print(\"Exceeded max number of iterations = \", i)\n",
    "            s = \"Min bracket f(%f) = %f\" % (x_min, f(x_min))\n",
    "            print(s)\n",
    "            s = \"Max bracket f(%f) = %f\" % (x_max, f(x_max))\n",
    "            print(s)\n",
    "            s = \"Mid bracket f(%f) = %f\" % (x_mid, f(x_mid))\n",
    "            print(s)\n",
    "            raise StopIteration('Stopping iterations after ',i)\n",
    "            \n",
    "    #we are done!\n",
    "    return x_mid"
   ]
  },
  {
   "cell_type": "code",
   "execution_count": null,
   "metadata": {
    "ExecuteTime": {
     "end_time": "2018-11-06T04:27:22.382095Z",
     "start_time": "2018-11-06T04:27:22.358507Z"
    }
   },
   "outputs": [],
   "source": [
    "x_min = 0.0\n",
    "x_min_init1 = x_min #saving initial bracketing values to plot\n",
    "x_max = 1.5\n",
    "x_max_init1 = x_max #saving initial bracketing values to plot\n",
    "tolerance = 1.0e-6\n",
    "\n",
    "#print the initial guess\n",
    "print(x_min, function_for_roots(x_min))\n",
    "print(x_max,function_for_roots(x_max))\n",
    "x_root1 = bisection_root_finding(function_for_roots,x_min,x_max,tolerance)\n",
    "y_root1 = function_for_roots(x_root1)\n",
    "\n",
    "s = \"Root found with y(%f) = %f\" % (x_root1,y_root1)\n",
    "print(s)\n",
    "\n",
    "x_min = 1.5\n",
    "x_min_init2 = x_min #saving initial bracketing values to plot\n",
    "x_max = 3.0\n",
    "x_max_init2 = x_max #saving initial bracketing values to plot\n",
    "tolerance = 1.0e-6\n",
    "\n",
    "#print the initial guess\n",
    "print(x_min, function_for_roots(x_min))\n",
    "print(x_max,function_for_roots(x_max))\n",
    "x_root2 = bisection_root_finding(function_for_roots,x_min,x_max,tolerance)\n",
    "y_root2 = function_for_roots(x_root2)\n",
    "\n",
    "s = \"Root found with y(%f) = %f\" % (x_root2,y_root2)\n",
    "print(s)"
   ]
  },
  {
   "cell_type": "code",
   "execution_count": null,
   "metadata": {
    "ExecuteTime": {
     "end_time": "2018-11-06T04:27:23.330805Z",
     "start_time": "2018-11-06T04:27:22.766453Z"
    }
   },
   "outputs": [],
   "source": [
    "\n",
    "x = np.linspace(0,3,1000)\n",
    "y = function_for_roots(x)\n",
    "z = 0*x\n",
    "plt.plot(x,y,label = '$1.01x^2 - 3.04x + 2.07$')\n",
    "plt.plot(x,z,label = '$y = 0$')\n",
    "plt.plot(x_min_init1,function_for_roots(x_min_init1),'ro', label = 'Initial bracketing values') #plot initial min bracketing value 1\n",
    "plt.plot(x_max_init1,function_for_roots(x_max_init1),'ro') #plot initial max bracketing value 1\n",
    "plt.plot(x_min_init2,function_for_roots(x_min_init2),'ro') #plot initial min bracketing value 2\n",
    "plt.plot(x_max_init2,function_for_roots(x_max_init2),'ro') #plot initial max bracketing value 2\n",
    "plt.plot(x_root1,y_root1,'bo',label = 'Roots') #plot root 1\n",
    "plt.plot(x_root2,y_root2,'bo') #plot root 2\n",
    "plt.xlabel('x')\n",
    "plt.ylabel('f(x)')\n",
    "plt.xlim((0,3))    #x range [0,2*pi]\n",
    "plt.ylim((-0.5,2.1))        #y range [-1,10]\n",
    "plt.legend(loc=1, framealpha = 0.60) #legend with transparent frame\n",
    "plt.show"
   ]
  },
  {
   "cell_type": "code",
   "execution_count": null,
   "metadata": {
    "collapsed": true
   },
   "outputs": [],
   "source": []
  }
 ],
 "metadata": {
  "kernelspec": {
   "display_name": "Python 3",
   "language": "python",
   "name": "python3"
  },
  "language_info": {
   "codemirror_mode": {
    "name": "ipython",
    "version": 3
   },
   "file_extension": ".py",
   "mimetype": "text/x-python",
   "name": "python",
   "nbconvert_exporter": "python",
   "pygments_lexer": "ipython3",
   "version": "3.6.1"
  }
 },
 "nbformat": 4,
 "nbformat_minor": 2
}
